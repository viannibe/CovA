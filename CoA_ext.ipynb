{
 "cells": [
  {
   "cell_type": "markdown",
   "id": "f223bdc5",
   "metadata": {},
   "source": [
    "Che cos’è – Una covarianza tra il dosaggio allelico di un individuo moderno e la frequenza di un’ancestry antica, centrata rispetto alle medie della popolazione moderna e dell’intero insieme di ancestries.\n",
    "\n",
    "Cosa misura – La “somiglianza locale” con una componente ancestrale in regioni funzionali (TAGR).\n",
    "\n",
    "Perché è utile – Evita di usare effetti GWAS‐specifici (spesso distorti da struttura), controlla esplicitamente il confine fra genetica e geografia, individua divergenze di valore poligenico tra ancestries.\n",
    "\n",
    "Perché le simulazioni SLiM – Servono solo a calibrare quanta covA ci si aspetta sotto deriva/sele­zione nota e a stimare potenza/falsi positivi; non sono obbligatorie per l’analisi empirica.\n"
   ]
  },
  {
   "cell_type": "markdown",
   "id": "09f3749b",
   "metadata": {},
   "source": [
    "DATI:\n",
    "\n",
    "**Genotipi antichi (AADR)** - v62.0_1240k_public.{geno,snp,ind} - Harward sito dell'articolo\n",
    "\n",
    "\n",
    "**Genotipi “moderni”** da UK Biobank - https://ftp.1000genomes.ebi.ac.uk/vol1/ftp/release/20130502/ -  VCF files containing the variants detected and additional genotype VCF files listing genotypes for each individual at each variant location (provided per chromosome due to file size)\n",
    "\n",
    "**NHGRI-EBI GWAS Catalog** https://www.ebi.ac.uk/gwas/"
   ]
  },
  {
   "cell_type": "markdown",
   "id": "fd2bda56",
   "metadata": {},
   "source": [
    "# Scariciamo plink2 (anche a parte serve per convertire i documenti modern dopo)\n",
    "!wget -q https://s3.amazonaws.com/plink2-assets/plink2_linux_x86_64_latest.zip\n",
    "!unzip -q plink2_linux_x86_64_latest.zip\n",
    "!chmod +x plink2\n",
    "!mv plink2 /usr/local/bin/\n",
    "!plink2 --version\n",
    "\n",
    "#!plink2 --vcf \"tuo_file\".vcf.gz --make-bed --out output_prefix"
   ]
  },
  {
   "cell_type": "code",
   "execution_count": null,
   "id": "a6202ac1",
   "metadata": {},
   "outputs": [],
   "source": [
    "# pip install numpy pandas cyvcf2 scikit-allel statsmodels tqdm"
   ]
  },
  {
   "cell_type": "code",
   "execution_count": 1,
   "id": "4b4ede0c",
   "metadata": {},
   "outputs": [],
   "source": [
    "# Definizione dei gruppi ancestrali \n",
    "\n",
    "import pandas as pd, re, pathlib, itertools, subprocess, numpy as np\n",
    "AADR_IND = pathlib.Path('/home/viannibe/codon_bias/CoA/data/antichi/v62.0_1240k_public.ind')\n",
    "\n",
    "anc_map = {'WHG': ['Loschbour', 'Bichon', 'Villabruna'],\n",
    "           'EEF': ['Bar31', 'Stuttgart', 'Iceman'],\n",
    "           'SBA': ['Yamnaya', 'Afanasievo', 'Poltavka']}\n",
    "\n",
    "for anc, patterns in anc_map.items():\n",
    "    with open(f'data/{anc.lower()}.ids','w') as out:\n",
    "        for line in open(AADR_IND):\n",
    "            if any(re.search(p,line, re.I) for p in patterns):\n",
    "                out.write(line.split()[0]+'\\n')\n",
    "\n",
    "# qui usiamo un “lite set” di ID; per accuratezza sfrutta la lista ufficiale nel paper)\n"
   ]
  },
  {
   "cell_type": "code",
   "execution_count": 3,
   "id": "051147a3",
   "metadata": {},
   "outputs": [],
   "source": [
    "# Costruzione delle TAGR\n",
    "\n",
    "gwas = pd.read_csv('/home/viannibe/codon_bias/CoA/data/gws_catalog/gwas_catalog_v1.0.2-associations_e113_r2025-04-28(1).tsv', sep='\\t', low_memory=False)\n",
    "\n",
    "trait = 'standing height'\n",
    "hits  = gwas[gwas['MAPPED_TRAIT'].str.contains(trait, case=False, na=False)]\n",
    "bed   = hits[['CHR_ID','CHR_POS']].dropna()\n",
    "bed['start'] = bed['CHR_POS']-10000\n",
    "bed['end']   = bed['CHR_POS']+10000\n",
    "bed[['CHR_ID','start','end']].to_csv(f'data/TAGR_{trait.replace(\" \",\"_\")}.bed',\n",
    "                                     sep='\\t', header=False, index=False)\n",
    "\n"
   ]
  },
  {
   "cell_type": "code",
   "execution_count": null,
   "id": "6ac5f192",
   "metadata": {},
   "outputs": [],
   "source": [
    "# Parse VCF moderni + Eigenstrat antichi\n",
    "\n",
    "import scikit_allel as allel, cyvcf2, gzip, textwrap, os\n",
    "from tqdm.auto import tqdm\n",
    "\n",
    "# Carica moderni (dosaggi 0/1/2) limitandosi alle regioni TAGR\n",
    "region_list = ['%s:%d-%d'%(c,s,e) for c,s,e in bed[['CHR_ID','start','end']].values]\n",
    "vcf = cyvcf2.VCF(\"data/ALL.chr22*.vcf.gz\")\n",
    "mod_samples = vcf.samples\n",
    "dosage = [] ; snps = []\n",
    "for reg in tqdm(region_list):\n",
    "    for rec in vcf(reg):\n",
    "        snps.append((rec.CHROM, rec.POS))\n",
    "        dosage.append(rec.genotypes)  # list of (a1,a2,phased)\n",
    "\n",
    "G_mod = np.array([[a+b for a,b,_ in row] for row in dosage], dtype='int8').T  # shape (n_samples,n_snps)\n",
    "Gm    = G_mod.mean(axis=0)\n"
   ]
  },
  {
   "cell_type": "code",
   "execution_count": null,
   "id": "f79410c7",
   "metadata": {},
   "outputs": [],
   "source": [
    "# gli antichi bisogna convertirli prima con plink2\n",
    "\n",
    "# plink2 --geno v62.0_1240k_public.geno \\\n",
    "#        --snp  v62.0_1240k_public.snp  \\\n",
    "#        --ind  v62.0_1240k_public.ind  \\\n",
    "#        --make-bed --out data/aadr"
   ]
  },
  {
   "cell_type": "code",
   "execution_count": null,
   "id": "3118d9d5",
   "metadata": {},
   "outputs": [],
   "source": [
    "anc = allel.read_plink('data/aadr.bed', fam_fields=['sample'])\n",
    "anc_samps = anc['samples']\n",
    "\n",
    "# media per SNP di ciascun ancestry\n",
    "Gp = {}\n",
    "for anc_key in ['WHG','EEF','SBA']:\n",
    "    keep = np.isin(anc_samps, open(f'data/{anc_key.lower()}.ids').read().splitlines())\n",
    "    Gp[anc_key] = anc['calldata/GT'].take(np.where(keep)[0], axis=1).to_n_alt().mean(axis=1)\n"
   ]
  },
  {
   "cell_type": "code",
   "execution_count": null,
   "id": "39c75181",
   "metadata": {},
   "outputs": [],
   "source": [
    "# Calcolo CovA\n",
    "\n",
    "Xi = G_mod - Gm          # centering moderni\n",
    "covA = {}\n",
    "for k in Gp:\n",
    "    Xp = Gp[k] - Gm\n",
    "    covA[k] = Xi.dot(Xp)/Xp.size\n",
    "\n",
    "covA_df = pd.DataFrame(covA, index=mod_samples)\n"
   ]
  },
  {
   "cell_type": "code",
   "execution_count": null,
   "id": "ced547b1",
   "metadata": {},
   "outputs": [],
   "source": [
    "# Regressione sul fenotipo\n",
    "\n",
    "import statsmodels.formula.api as smf\n",
    "\n",
    "pheno = pd.read_csv('data/height_pheno.csv')      # sample,value\n",
    "covar = pd.read_csv('data/covar.csv')\n",
    "\n",
    "df = pheno.merge(covar).merge(covA_df, left_on='sample', right_index=True).dropna()\n",
    "\n",
    "formula = 'value ~ WHG + EEF + SBA + age + sex + PC1 + PC2 + center + TDI'\n",
    "res = smf.ols(formula, data=df).fit()\n",
    "print(res.summary())\n",
    "\n",
    "\n",
    "# (per un modello “alla Marnetto” togli due covA globali e limita WHG/EEF/SBA a una per volta → tre modelli separati)\n"
   ]
  },
  {
   "cell_type": "markdown",
   "id": "18a8cd02",
   "metadata": {},
   "source": [
    "Coefficiente βcovA → interpreti in termini di contributo ancestrale al trait.\n",
    "\n",
    "Se |β| > 0.03 e p < 0.05 FDR → possibile divergenza reale.\n",
    "\n",
    "Confronta con i valori di riferimento del paper (Fig. 2A)."
   ]
  },
  {
   "cell_type": "code",
   "execution_count": null,
   "id": "8fcc8f18",
   "metadata": {},
   "outputs": [],
   "source": [
    "res.save('results/height_covA.pkl')"
   ]
  }
 ],
 "metadata": {
  "kernelspec": {
   "display_name": ".venv",
   "language": "python",
   "name": "python3"
  },
  "language_info": {
   "codemirror_mode": {
    "name": "ipython",
    "version": 3
   },
   "file_extension": ".py",
   "mimetype": "text/x-python",
   "name": "python",
   "nbconvert_exporter": "python",
   "pygments_lexer": "ipython3",
   "version": "3.12.3"
  }
 },
 "nbformat": 4,
 "nbformat_minor": 5
}
